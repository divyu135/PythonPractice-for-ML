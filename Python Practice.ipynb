{
 "cells": [
  {
   "cell_type": "markdown",
   "metadata": {},
   "source": [
    "# Practice Questions on Python"
   ]
  },
  {
   "cell_type": "markdown",
   "metadata": {},
   "source": [
    "### Problem 1 : Write a function that inputs a number and prints the multiplication table of that number"
   ]
  },
  {
   "cell_type": "code",
   "execution_count": 1,
   "metadata": {
    "scrolled": true
   },
   "outputs": [
    {
     "name": "stdout",
     "output_type": "stream",
     "text": [
      "Enter a number: 7\n",
      "\n",
      "Table of  7\n",
      "7 * 1 = 7\n",
      "7 * 2 = 14\n",
      "7 * 3 = 21\n",
      "7 * 4 = 28\n",
      "7 * 5 = 35\n",
      "7 * 6 = 42\n",
      "7 * 7 = 49\n",
      "7 * 8 = 56\n",
      "7 * 9 = 63\n",
      "7 * 10 = 70\n"
     ]
    }
   ],
   "source": [
    "def multiplyTable(number):\n",
    "    \"\"\"\n",
    "    Function to Generate Multiplication Table of Given number upto 10\n",
    "    \"\"\"\n",
    "    print(\"\\nTable of \", number)\n",
    "    for i in range(1,11):\n",
    "        print(\"{} * {} = {}\".format(number, i, number*i))\n",
    "    \n",
    "num = int(input(\"Enter a number: \"))\n",
    "multiplyTable(num)"
   ]
  },
  {
   "cell_type": "markdown",
   "metadata": {},
   "source": [
    "### Problem 2 : Write a program to print twin primes less than 1000. If two consecutive odd numbers are both prime then they are known as twin primes"
   ]
  },
  {
   "cell_type": "code",
   "execution_count": 2,
   "metadata": {
    "scrolled": true
   },
   "outputs": [
    {
     "name": "stdout",
     "output_type": "stream",
     "text": [
      "1. (3 , 5)\n",
      "2. (5 , 7)\n",
      "3. (11 , 13)\n",
      "4. (17 , 19)\n",
      "5. (29 , 31)\n",
      "6. (41 , 43)\n",
      "7. (59 , 61)\n",
      "8. (71 , 73)\n",
      "9. (101 , 103)\n",
      "10. (107 , 109)\n",
      "11. (137 , 139)\n",
      "12. (149 , 151)\n",
      "13. (179 , 181)\n",
      "14. (191 , 193)\n",
      "15. (197 , 199)\n",
      "16. (227 , 229)\n",
      "17. (239 , 241)\n",
      "18. (269 , 271)\n",
      "19. (281 , 283)\n",
      "20. (311 , 313)\n",
      "21. (347 , 349)\n",
      "22. (419 , 421)\n",
      "23. (431 , 433)\n",
      "24. (461 , 463)\n",
      "25. (521 , 523)\n",
      "26. (569 , 571)\n",
      "27. (599 , 601)\n",
      "28. (617 , 619)\n",
      "29. (641 , 643)\n",
      "30. (659 , 661)\n",
      "31. (809 , 811)\n",
      "32. (821 , 823)\n",
      "33. (827 , 829)\n",
      "34. (857 , 859)\n",
      "35. (881 , 883)\n"
     ]
    }
   ],
   "source": [
    "import math\n",
    "def isprime(num):\n",
    "    \"\"\"\n",
    "    Function to return if given number is prime or not\n",
    "    \"\"\"\n",
    "    for i in range(2,int(math.sqrt(num))+1):  \n",
    "        if (num % i) == 0:  \n",
    "            return False  \n",
    "            break   \n",
    "    return True\n",
    "\n",
    "i = 3\n",
    "index =1\n",
    "while i<1000:\n",
    "    if(isprime(i) and isprime(i+2)):\n",
    "        print(\"{}. ({} , {})\".format(index,i,i+2))\n",
    "        index = index +1\n",
    "    i = i + 2"
   ]
  },
  {
   "cell_type": "markdown",
   "metadata": {},
   "source": [
    "### Problem 3 : Write a program to find out the prime factors of a number."
   ]
  },
  {
   "cell_type": "code",
   "execution_count": 4,
   "metadata": {},
   "outputs": [
    {
     "name": "stdout",
     "output_type": "stream",
     "text": [
      "Enter the Number: 9\n",
      "Prime Factors:  [3, 3]\n"
     ]
    }
   ],
   "source": [
    "import math\n",
    "number = int(input(\"Enter the Number: \"))\n",
    "prime_factors = list()\n",
    "\n",
    "while number % 2 == 0:\n",
    "    prime_factors.append(2)\n",
    "    number = number/2\n",
    "for i in range(3,int(math.sqrt(number)+1), 2):\n",
    "    while number % i == 0:\n",
    "        prime_factors.append(i)\n",
    "        number /= i\n",
    "if number > 2:\n",
    "    prime_factors.append(int(number))\n",
    "    \n",
    "print(\"Prime Factors: \",prime_factors)"
   ]
  },
  {
   "cell_type": "markdown",
   "metadata": {},
   "source": [
    "### Problem 4: Write a program to implement these formulae of permutations and combinations"
   ]
  },
  {
   "cell_type": "code",
   "execution_count": 5,
   "metadata": {},
   "outputs": [
    {
     "name": "stdout",
     "output_type": "stream",
     "text": [
      "Permutation of 5,3:  60.0\n",
      "Combination of 5,3:  20.0\n"
     ]
    }
   ],
   "source": [
    "def factorial(n):\n",
    "    \"\"\"\n",
    "    Function to find the factorial of a given number\n",
    "    \"\"\"\n",
    "    n_factorial = 1\n",
    "    while n > 0:\n",
    "        n_factorial *= n\n",
    "        n -= 1\n",
    "    return n_factorial\n",
    "\n",
    "def combination(n,r):\n",
    "    \"\"\"\n",
    "    Function to find the combination of a given n and r\n",
    "    \"\"\"\n",
    "    return permutation(n,r)/factorial(r)\n",
    "\n",
    "def permutation(n,r):\n",
    "    \"\"\"\n",
    "    Function to find the permutation of a given n and r\n",
    "    \"\"\"\n",
    "    return factorial(n)/factorial(n-r)\n",
    "\n",
    "print(\"Permutation of 5,3: \",permutation(5,3))\n",
    "print(\"Combination of 5,3: \",combination(6,3))"
   ]
  },
  {
   "cell_type": "markdown",
   "metadata": {},
   "source": [
    "### Problem 5: Write a function that converts a decimal number to binary number"
   ]
  },
  {
   "cell_type": "code",
   "execution_count": 5,
   "metadata": {},
   "outputs": [
    {
     "name": "stdout",
     "output_type": "stream",
     "text": [
      "[1, 0, 0, 0]\n"
     ]
    }
   ],
   "source": [
    "def decimal_to_binary(dec_num):\n",
    "    \"\"\"\n",
    "    Function to find binary number of given deccimal number\n",
    "    This function returns binary number in form of list of 0 & 1\n",
    "    \"\"\"\n",
    "    bin_num = list()\n",
    "    while dec_num > 0:\n",
    "        bin_num.append(dec_num%2)\n",
    "        dec_num = int(dec_num/2)\n",
    "    bin_num.reverse()\n",
    "    return bin_num\n",
    "\n",
    "print(decimal_to_binary(8))\n",
    "    "
   ]
  },
  {
   "cell_type": "markdown",
   "metadata": {},
   "source": [
    "### Problem 6 : Write a function cubesum() that accepts an integer and returns the sum of the cubes of individual digits of that number. Use this function to make functions PrintArmstrong() and isArmstrong() to print Armstrong numbers and to find whether is an Armstrong number."
   ]
  },
  {
   "cell_type": "code",
   "execution_count": 6,
   "metadata": {},
   "outputs": [
    {
     "name": "stdout",
     "output_type": "stream",
     "text": [
      "153\n",
      "True\n",
      "\n",
      "\n",
      "1\n",
      "153\n",
      "370\n",
      "371\n",
      "407\n"
     ]
    }
   ],
   "source": [
    "def cubesum(n):\n",
    "    \"\"\"\n",
    "    Function accept a number and find and return its sum of cubes\n",
    "    \"\"\"\n",
    "    cube_sum = 0\n",
    "    while n > 0:\n",
    "        cube_sum += (n%10)**3\n",
    "        n = int(n/10)\n",
    "    return cube_sum\n",
    "\n",
    "def isArmstrong(n):\n",
    "    \"\"\"\n",
    "    Function accept a number and Check if given number is armstrong or not?\n",
    "    \"\"\"\n",
    "    if (n == cubesum(n)):\n",
    "        return True\n",
    "    else:\n",
    "        return False\n",
    "    \n",
    "def PrintArmstrong(n):\n",
    "    \"\"\"\n",
    "    Function accept n and print all the armstrong number from 1 to n\n",
    "    \"\"\"\n",
    "    for i in range(1,n+1):\n",
    "        if(isArmstrong(i)):\n",
    "            print(i)\n",
    "\n",
    "print(cubesum(153))\n",
    "print(isArmstrong(153))\n",
    "print(\"\\n\")\n",
    "PrintArmstrong(1000)"
   ]
  },
  {
   "cell_type": "markdown",
   "metadata": {},
   "source": [
    "### Problem 7 : Write a function prodDigits() that inputs a number and returns the product of digits of that number"
   ]
  },
  {
   "cell_type": "code",
   "execution_count": 7,
   "metadata": {},
   "outputs": [
    {
     "name": "stdout",
     "output_type": "stream",
     "text": [
      "63\n"
     ]
    }
   ],
   "source": [
    "def prodDigits(n):\n",
    "    \"\"\"\n",
    "    Function to find the product of digits of given number\n",
    "    \"\"\"\n",
    "    if n == 0:\n",
    "        return 0\n",
    "    else:\n",
    "        digit_product = 1\n",
    "    while n > 0:\n",
    "        digit_product *= (n%10)\n",
    "        n = int(n/10)\n",
    "    return digit_product\n",
    "\n",
    "print(prodDigits(917))"
   ]
  },
  {
   "cell_type": "markdown",
   "metadata": {},
   "source": [
    "### Problem 8 : Finding Multiplicative Digital Root and Persistance"
   ]
  },
  {
   "cell_type": "code",
   "execution_count": 6,
   "metadata": {},
   "outputs": [
    {
     "name": "stdout",
     "output_type": "stream",
     "text": [
      "Multiplicative Digital Root of 341 is 2\n",
      "Persistance of 341 is 2\n"
     ]
    }
   ],
   "source": [
    "def prodDigits(n):\n",
    "    \"\"\"\n",
    "    Function to find the product of digits of given number\n",
    "    \"\"\"\n",
    "    if n == 0:\n",
    "        return 0\n",
    "    else:\n",
    "        digit_product = 1\n",
    "    while n > 0:\n",
    "        digit_product *= (n%10)\n",
    "        n = int(n/10)\n",
    "    return digit_product\n",
    "\n",
    "def MDR(n):\n",
    "    i = 0\n",
    "    root = n\n",
    "    while root >= 10:\n",
    "        root = prodDigits(root)\n",
    "        i = i +1\n",
    "    print(\"Multiplicative Digital Root of {} is {}\".format(n,root))\n",
    "    print(\"Persistance of {} is {}\".format(n,i))\n",
    "    \n",
    "MDR(341)"
   ]
  },
  {
   "cell_type": "markdown",
   "metadata": {},
   "source": [
    "### Problem 9 : Write a function sumPdivisors() that finds the sum of proper divisors of a number."
   ]
  },
  {
   "cell_type": "code",
   "execution_count": 9,
   "metadata": {},
   "outputs": [
    {
     "name": "stdout",
     "output_type": "stream",
     "text": [
      "43\n"
     ]
    }
   ],
   "source": [
    "def sumPdivisors(n):\n",
    "    pdiv_sum = 0\n",
    "    i=1\n",
    "    while i < int(n/2)+1:\n",
    "        if n%i == 0:\n",
    "            pdiv_sum += i\n",
    "        i = i + 1\n",
    "    return pdiv_sum\n",
    "\n",
    "print(sumPdivisors(50))"
   ]
  },
  {
   "cell_type": "markdown",
   "metadata": {},
   "source": [
    "### Problem 10 : Write a program to print all the perfect numbers in a given range"
   ]
  },
  {
   "cell_type": "code",
   "execution_count": 10,
   "metadata": {},
   "outputs": [
    {
     "name": "stdout",
     "output_type": "stream",
     "text": [
      "6\n",
      "28\n",
      "496\n"
     ]
    }
   ],
   "source": [
    "def printPerfectNumbers(s,e):\n",
    "    for i in range(s,e+1):\n",
    "        if i == sumPdivisors(i):\n",
    "            print(i)\n",
    "            \n",
    "printPerfectNumbers(1,1000)"
   ]
  },
  {
   "cell_type": "markdown",
   "metadata": {},
   "source": [
    "### Problem 11 : Write a program to find amicable numbers"
   ]
  },
  {
   "cell_type": "code",
   "execution_count": 11,
   "metadata": {},
   "outputs": [
    {
     "name": "stdout",
     "output_type": "stream",
     "text": [
      "220 284\n",
      "1184 1210\n",
      "2620 2924\n"
     ]
    }
   ],
   "source": [
    "def printAmicable(s,e):\n",
    "    for i in range(s,e+1):\n",
    "            a = sumPdivisors(i)\n",
    "            b = sumPdivisors(a)\n",
    "            if b == i and i != a and i < a:\n",
    "                print(i,a)\n",
    "                \n",
    "printAmicable(1,3000)"
   ]
  },
  {
   "cell_type": "markdown",
   "metadata": {},
   "source": [
    "### Problem 12 : Write a program which can filter odd numbers in a list by using filter function"
   ]
  },
  {
   "cell_type": "code",
   "execution_count": 12,
   "metadata": {},
   "outputs": [
    {
     "name": "stdout",
     "output_type": "stream",
     "text": [
      "List Odd Numbers:  [13, 35, 59, 7]\n",
      "List Odd Numbers(using lambda):  [13, 35, 59, 7]\n"
     ]
    }
   ],
   "source": [
    "def isOdd(x):\n",
    "    if x%2 == 0:\n",
    "        return False\n",
    "    else:\n",
    "        return True\n",
    "\n",
    "lst = [2, 24, 76, 90, 13, 10, 35, 26, 59, 7]\n",
    "\n",
    "print(\"List Odd Numbers: \",list(filter(isOdd,lst)))\n",
    "print(\"List Odd Numbers(using lambda): \",list(filter((lambda x: x%2==1),lst)))"
   ]
  },
  {
   "cell_type": "markdown",
   "metadata": {},
   "source": [
    "### Problem 13: Write a program which can map() to make a list whose elements are cube of elements in a given list"
   ]
  },
  {
   "cell_type": "code",
   "execution_count": 13,
   "metadata": {},
   "outputs": [
    {
     "name": "stdout",
     "output_type": "stream",
     "text": [
      "List of Cube(using map) [8, 64, 343, 729, 2197, 1000, 125, 216, 1331, 1]\n"
     ]
    }
   ],
   "source": [
    "lst = [2, 4, 7, 9, 13, 10, 5, 6, 11, 1]\n",
    "print(\"List of Cube(using map)\",list(map((lambda x: x**3),lst)))"
   ]
  },
  {
   "cell_type": "markdown",
   "metadata": {},
   "source": [
    "### Problem 14 : Write a program which can map() and filter() to make a list whose elements are cube of even number in a given list"
   ]
  },
  {
   "cell_type": "code",
   "execution_count": 14,
   "metadata": {},
   "outputs": [
    {
     "name": "stdout",
     "output_type": "stream",
     "text": [
      "List of Cube(using map) [8, 64, 1000, 216]\n"
     ]
    }
   ],
   "source": [
    "lst = [2, 4, 7, 9, 13, 10, 5, 6, 11, 1]\n",
    "print(\"List of Cube(using map)\",list(map((lambda x: x**3),list(filter( (lambda x: x%2==0) ,lst)) )))"
   ]
  },
  {
   "cell_type": "code",
   "execution_count": null,
   "metadata": {},
   "outputs": [],
   "source": []
  }
 ],
 "metadata": {
  "kernelspec": {
   "display_name": "Python 3",
   "language": "python",
   "name": "python3"
  },
  "language_info": {
   "codemirror_mode": {
    "name": "ipython",
    "version": 3
   },
   "file_extension": ".py",
   "mimetype": "text/x-python",
   "name": "python",
   "nbconvert_exporter": "python",
   "pygments_lexer": "ipython3",
   "version": "3.6.5"
  }
 },
 "nbformat": 4,
 "nbformat_minor": 2
}
